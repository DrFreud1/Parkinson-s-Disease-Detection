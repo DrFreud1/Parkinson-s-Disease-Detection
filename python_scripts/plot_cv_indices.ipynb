{
 "cells": [
  {
   "cell_type": "code",
   "execution_count": 1,
   "metadata": {},
   "outputs": [
    {
     "data": {
      "text/plain": [
       "<module 'shape' from 'C:\\\\Users\\\\USER\\\\Documents\\\\Yachay_Tech\\\\Thesis_Project\\\\ParkinsonsDetection\\\\python_scripts\\\\shape.py'>"
      ]
     },
     "execution_count": 1,
     "metadata": {},
     "output_type": "execute_result"
    }
   ],
   "source": [
    "import PyQt5\n",
    "%config InlineBackend.figure_format = 'retina'\n",
    "%matplotlib qt5\n",
    "\n",
    "#python packages\n",
    "import numpy as np\n",
    "import scipy as sp\n",
    "import pandas as pd\n",
    "import seaborn as sns\n",
    "import matplotlib.pyplot as plt\n",
    "from sklearn import preprocessing\n",
    "import pac\n",
    "import warnings\n",
    "\n",
    "import seaborn as sns\n",
    "sns.set_style('white')\n",
    "\n",
    "import imp\n",
    "import shape\n",
    "import utils\n",
    "from load_features import load_WaveformShape_features, Bandpower_features, mean_and_peak_freqs, statistics, fractal_dimensions, entropies\n",
    "from val_metrics import *\n",
    "\n",
    "imp.reload(utils)\n",
    "imp.reload(shape)"
   ]
  },
  {
   "cell_type": "markdown",
   "metadata": {},
   "source": [
    "\n",
    "# Visualizing cross-validation behavior in scikit-learn\n",
    "\n",
    "Choosing the right cross-validation object is a crucial part of fitting a\n",
    "model properly. There are many ways to split data into training and test\n",
    "sets in order to avoid model overfitting, to standardize the number of\n",
    "groups in test sets, etc.\n",
    "\n",
    "This example visualizes the behavior of several common scikit-learn objects\n",
    "for comparison.\n"
   ]
  },
  {
   "cell_type": "code",
   "execution_count": 2,
   "metadata": {},
   "outputs": [],
   "source": [
    "from sklearn.model_selection import (TimeSeriesSplit, KFold, ShuffleSplit,\n",
    "                                     StratifiedKFold, GroupShuffleSplit,\n",
    "                                     GroupKFold, StratifiedShuffleSplit)\n",
    "import numpy as np\n",
    "import matplotlib.pyplot as plt\n",
    "from matplotlib.patches import Patch\n",
    "np.random.seed(1338)\n",
    "cmap_data = plt.cm.Paired\n",
    "cmap_cv = plt.cm.coolwarm\n",
    "n_splits = 10"
   ]
  },
  {
   "cell_type": "markdown",
   "metadata": {},
   "source": [
    "## Visualize our data\n",
    "\n",
    "First, we must understand the structure of our data. It has 100 randomly\n",
    "generated input datapoints, 3 classes split unevenly across datapoints,\n",
    "and 10 \"groups\" split evenly across datapoints.\n",
    "\n",
    "As we'll see, some cross-validation objects do specific things with\n",
    "labeled data, others behave differently with grouped data, and others\n",
    "do not use this information.\n",
    "\n",
    "To begin, we'll visualize our data.\n",
    "\n"
   ]
  },
  {
   "cell_type": "code",
   "execution_count": 3,
   "metadata": {},
   "outputs": [],
   "source": [
    "\"\"\"Which comparison to make:\n",
    "    1. Off-med vs Controls\n",
    "    2. On-med vs Controls\n",
    "    3. Off-med vs On-med\n",
    "    \"\"\"\n",
    "comparison = 1\n",
    "dataset = 'UNM' #UCSD or UNM"
   ]
  },
  {
   "cell_type": "code",
   "execution_count": 4,
   "metadata": {},
   "outputs": [],
   "source": [
    "## Load data and meta-data\n",
    "all_chan = False; EO = False\n",
    "bands = [[0.5,4], [4,8], [8,12], [16,32], [32,64]] #Delta, Theta, Alpha, Beta, Gamma"
   ]
  },
  {
   "cell_type": "code",
   "execution_count": 5,
   "metadata": {},
   "outputs": [],
   "source": [
    "Fs, t, S, Sc, Smed, flo, fhi = utils.loadmeta()  \n",
    "eeg,rejects = utils.loadPD(EO, all_chan, dataset) # EO means Eyes Opened"
   ]
  },
  {
   "cell_type": "code",
   "execution_count": 6,
   "metadata": {},
   "outputs": [],
   "source": [
    "\"\"\"This function calculates the shape measures calculated for analysis\n",
    "    of the PD data set\n",
    "\n",
    "    1. Peak and trough times(pks,trs)\n",
    "    2. Peak and trough sharpness(pksharp,trsharp)\n",
    "    3. Rise and decay steepnes(risteep,desteep)\n",
    "    3. Sharpness ratio(ShR)\n",
    "    4. Steepness ratio(StR)\n",
    "    5. Peak-to-trough ratio(PTR)\n",
    "    6. Rise-to-decay ratio(RDR)\n",
    "    \"\"\"\n",
    "widthS = 3 #To calculate Waveform Shape features\n",
    "\n",
    "pks,trs,ShR,PTR,StR,RDR = utils.measure_shape(eeg, rejects, widthS=widthS)\n",
    "\"\"\"\n",
    "Algorithms for estimating phase-amplitude coupling\n",
    "\"\"\"\n",
    "pac = utils.measure_pac(eeg,rejects,flo,fhi,Fs=Fs)"
   ]
  },
  {
   "cell_type": "code",
   "execution_count": 7,
   "metadata": {},
   "outputs": [],
   "source": [
    "\"\"\"\n",
    "Absolute and Relative BandPower features, from all five bands: Delta, Theta, Alpha, Beta, Gamma\n",
    "\"\"\"\n",
    "abs_powerOff = Bandpower_features(eeg['off'], Fs, bands, S, False, 'welch')\n",
    "abs_powerOn = Bandpower_features(eeg['on'], Fs, bands, Smed, False, 'welch')\n",
    "abs_powerCtl = Bandpower_features(eeg['C'], Fs, bands, Sc, False, 'welch')\n",
    "\n",
    "rel_powerOff = Bandpower_features(eeg['off'], Fs, bands, S, True, 'welch')\n",
    "rel_powerOn = Bandpower_features(eeg['on'], Fs, bands, Smed, True, 'welch')\n",
    "rel_powerCtl = Bandpower_features(eeg['C'], Fs, bands, Sc, True, 'welch')"
   ]
  },
  {
   "cell_type": "code",
   "execution_count": 8,
   "metadata": {},
   "outputs": [],
   "source": [
    "\"\"\"\n",
    "Mean and Peak Frequency from the spectrum\n",
    "\"\"\"\n",
    "meanFreqsOff = mean_and_peak_freqs(eeg['off'], Fs, S)[0] \n",
    "meanFreqsOn = mean_and_peak_freqs(eeg['on'], Fs, Smed)[0]\n",
    "meanFreqsCtl = mean_and_peak_freqs(eeg['C'], Fs, Sc)[0]\n",
    "\n",
    "peakFreqsOff = mean_and_peak_freqs(eeg['off'], Fs, S)[1]\n",
    "peakFreqsOn = mean_and_peak_freqs(eeg['on'], Fs, Smed)[1]\n",
    "peakFreqsCtl = mean_and_peak_freqs(eeg['C'], Fs, Sc)[1]"
   ]
  },
  {
   "cell_type": "code",
   "execution_count": 9,
   "metadata": {},
   "outputs": [],
   "source": [
    "\"\"\"This cell calculates statistical measures extracted from EEG for analysis\n",
    "    of the PD data set\n",
    "\n",
    "    1. Mean\n",
    "    2. Standard Deviation\n",
    "    3. Skewness\n",
    "    4. Kurtosis\n",
    "    5. Maximum\n",
    "    6. Minimum\n",
    "    7. 5th percentile value\n",
    "    8. 25th percentile value\n",
    "    9. 75th percentile value\n",
    "    10. 95th percentile value\n",
    "    11. Median\n",
    "    12. Variance\n",
    "    13. Root Mean Square value\n",
    "    \"\"\"\n",
    "statsOff = statistics(eeg['off'], S).get()\n",
    "statsOn = statistics(eeg['on'], Smed).get()\n",
    "statsCtl = statistics(eeg['C'], Sc).get()"
   ]
  },
  {
   "cell_type": "code",
   "execution_count": 10,
   "metadata": {},
   "outputs": [],
   "source": [
    "fractalOff = fractal_dimensions(eeg['off'], S)\n",
    "fractalOn = fractal_dimensions(eeg['on'], Smed)\n",
    "fractalCtl = fractal_dimensions(eeg['C'], Sc)"
   ]
  },
  {
   "cell_type": "code",
   "execution_count": 11,
   "metadata": {},
   "outputs": [],
   "source": [
    "entOff = entropies(eeg['off'], S, Fs)\n",
    "entOn = entropies(eeg['on'], Smed, Fs)\n",
    "entCtl = entropies(eeg['C'], Sc, Fs)"
   ]
  },
  {
   "cell_type": "code",
   "execution_count": 12,
   "metadata": {},
   "outputs": [],
   "source": [
    "# create features of class I\n",
    "f1_B    = np.reshape(pac['off'],(S,1))\n",
    "f2_B    = np.reshape(ShR['off'],(S,1))\n",
    "f3_B    = np.reshape(StR['off'],(S,1))\n",
    "f4_B    = np.reshape(PTR['off'],(S,1))\n",
    "f5_B    = np.reshape(RDR['off'],(S,1))\n",
    "cl_B    = np.ones((S,1)) # 1"
   ]
  },
  {
   "cell_type": "code",
   "execution_count": 13,
   "metadata": {},
   "outputs": [],
   "source": [
    "# create features of class II\n",
    "f1_C    = np.reshape(pac['on'],(Smed,1))\n",
    "f2_C    = np.reshape(ShR['on'],(Smed,1))\n",
    "f3_C    = np.reshape(StR['on'],(Smed,1))\n",
    "f4_C    = np.reshape(PTR['on'],(Smed,1))\n",
    "f5_C    = np.reshape(RDR['on'],(Smed,1))\n",
    "if comparison == 1 or comparison == 3:\n",
    "    cl_C    = np.zeros((Smed,1)) # transition means 0 #Original line\n",
    "elif comparison == 2:\n",
    "    cl_C    = np.ones((Smed,1))"
   ]
  },
  {
   "cell_type": "code",
   "execution_count": 14,
   "metadata": {},
   "outputs": [],
   "source": [
    "# create features of class III\n",
    "f1_E    = np.reshape(pac['C'],(Sc,1))\n",
    "f2_E    = np.reshape(ShR['C'],(Sc,1))\n",
    "f3_E    = np.reshape(StR['C'],(Sc,1))\n",
    "f4_E    = np.reshape(PTR['C'],(Sc,1))\n",
    "f5_E    = np.reshape(RDR['C'],(Sc,1))\n",
    "cl_E    = np.negative(np.ones((Sc,1))) # -1"
   ]
  },
  {
   "cell_type": "code",
   "execution_count": 15,
   "metadata": {},
   "outputs": [],
   "source": [
    "MftB = np.concatenate([f1_B,f2_B,f3_B, f4_B, f5_B, rel_powerOff, abs_powerOff, meanFreqsOff, peakFreqsOff, statsOff, fractalOff, entOff, cl_B],axis=1)\n",
    "MftC = np.concatenate([f1_C,f2_C,f3_C, f4_C, f5_C, rel_powerOn,  abs_powerOn,  meanFreqsOn, peakFreqsOn,   statsOn,  fractalOn, entOn,  cl_C],axis=1)\n",
    "MftE = np.concatenate([f1_E,f2_E,f3_E, f4_E, f5_E, rel_powerCtl, abs_powerCtl, meanFreqsCtl, peakFreqsCtl, statsCtl, fractalCtl, entCtl, cl_E],axis=1)"
   ]
  },
  {
   "cell_type": "code",
   "execution_count": 16,
   "metadata": {},
   "outputs": [],
   "source": [
    "features = ['PAC','ShR','StR', 'PtT', 'RtF', 'rel_delta',\n",
    "            'rel_theta','rel_alpha','rel_beta',\n",
    "            'rel_gamma','abs_delta','abs_theta',\n",
    "            'abs_alpha','abs_beta','abs_gamma','meanFreq','peakFreq',\n",
    "            'mean','std','skewness', 'kurtosis', 'maximum', 'minimum',\n",
    "            '5th perc','25th perc','75th perc','95th perc','median','variance','RMS',\n",
    "           'detrended_fluctuation', 'higuchi_fd', 'katz_fd', 'petrosian_fd',\n",
    "           'perm_entropy', 'svd_entropy']"
   ]
  },
  {
   "cell_type": "code",
   "execution_count": 17,
   "metadata": {},
   "outputs": [],
   "source": [
    "FCM_B = pd.DataFrame(MftB,columns= features + ['class'])\n",
    "FCM_C = pd.DataFrame(MftC,columns= features + ['class'])\n",
    "FCM_E = pd.DataFrame(MftE,columns= features + ['class'])"
   ]
  },
  {
   "cell_type": "code",
   "execution_count": 18,
   "metadata": {},
   "outputs": [],
   "source": [
    "#Classification between patients on-medication and patients off-medication   \n",
    "\n",
    "if comparison == 3:\n",
    "    TotalDataset = pd.concat([FCM_B,FCM_C],ignore_index=True)\n",
    "    visDat = TotalDataset.copy(deep=True)\n",
    "    visDat['class'] = visDat['class'].map({1:'off_med',0:'on_med'})\n",
    "\n",
    "#Classification between patients on-medication and healthy control subjects        \n",
    "\n",
    "elif comparison == 2:\n",
    "    TotalDataset = pd.concat([FCM_C,FCM_E],ignore_index=True)\n",
    "    visDat = TotalDataset.copy(deep=True)\n",
    "    # visDat['class'] = visDat['class'].map({-1:'control',0:'on_med'}) #Original line\n",
    "    visDat['class'] = visDat['class'].map({-1:'control',1:'on_med'})\n",
    "\n",
    "#Classification between patients off-medication and healthy control subjects        \n",
    "\n",
    "elif comparison == 1:\n",
    "    TotalDataset = pd.concat([FCM_E,FCM_B],ignore_index=True)\n",
    "    visDat = TotalDataset.copy(deep=True)\n",
    "    visDat['class'] = visDat['class'].map({-1:'control',1:'off_med'})"
   ]
  },
  {
   "cell_type": "code",
   "execution_count": 19,
   "metadata": {},
   "outputs": [],
   "source": [
    "X = TotalDataset[features]\n",
    "y = TotalDataset[['class']]\n",
    "X = np.asarray(X)\n",
    "y = np.asarray(y)"
   ]
  },
  {
   "cell_type": "code",
   "execution_count": 26,
   "metadata": {},
   "outputs": [],
   "source": [
    "# Generate the class/group data\n",
    "# n_points = 100\n",
    "# X = np.random.randn(100, 10)\n",
    "\n",
    "# percentiles_classes = [.1, .3, .6]\n",
    "# y = np.hstack([[ii] * int(100 * perc)\n",
    "#                for ii, perc in enumerate(percentiles_classes)])\n",
    "\n",
    "# Evenly spaced groups repeated once\n",
    "groups = np.hstack([[ii] * 8 for ii in range(81)])\n",
    "\n",
    "\n",
    "def visualize_groups(classes, groups, name):\n",
    "    # Visualize dataset groups\n",
    "    fig, ax = plt.subplots()\n",
    "    ax.scatter(range(len(groups)),  [.5] * len(groups), c=groups, marker='_',\n",
    "               lw=50, cmap=cmap_data)\n",
    "    ax.scatter(range(len(groups)),  [3.5] * len(groups), c=classes, marker='_',\n",
    "               lw=50, cmap=cmap_data)\n",
    "    ax.set(ylim=[-1, 5], yticks=[.5, 3.5],\n",
    "           yticklabels=['Data\\ngroup', 'Data\\nclass'], xlabel=\"Sample index\")\n",
    "\n",
    "\n",
    "visualize_groups(y, groups, 'no groups')"
   ]
  },
  {
   "cell_type": "markdown",
   "metadata": {},
   "source": [
    "## Define a function to visualize cross-validation behavior\n",
    "\n",
    "We'll define a function that lets us visualize the behavior of each\n",
    "cross-validation object. We'll perform 4 splits of the data. On each\n",
    "split, we'll visualize the indices chosen for the training set\n",
    "(in blue) and the test set (in red).\n",
    "\n"
   ]
  },
  {
   "cell_type": "code",
   "execution_count": 27,
   "metadata": {},
   "outputs": [],
   "source": [
    "def plot_cv_indices(cv, X, y, group, ax, n_splits, lw=10):\n",
    "    \"\"\"Create a sample plot for indices of a cross-validation object.\"\"\"\n",
    "\n",
    "    # Generate the training/testing visualizations for each CV split\n",
    "    for ii, (tr, tt) in enumerate(cv.split(X=X, y=y, groups=group)):\n",
    "        # Fill in indices with the training/test groups\n",
    "        indices = np.array([np.nan] * len(X))\n",
    "        indices[tt] = 1\n",
    "        indices[tr] = 0\n",
    "\n",
    "        # Visualize the results\n",
    "        ax.scatter(range(len(indices)), [ii + .5] * len(indices),\n",
    "                   c=indices, marker='_', lw=lw, cmap=cmap_cv,\n",
    "                   vmin=-.2, vmax=1.2)\n",
    "\n",
    "    # Plot the data classes and groups at the end\n",
    "    ax.scatter(range(len(X)), [ii + 1.5] * len(X),\n",
    "               c=y, marker='_', lw=lw, cmap=cmap_data)\n",
    "\n",
    "    ax.scatter(range(len(X)), [ii + 2.5] * len(X),\n",
    "               c=group, marker='_', lw=lw, cmap=cmap_data)\n",
    "\n",
    "    # Formatting\n",
    "    yticklabels = list(range(n_splits)) + ['class', 'group']\n",
    "    ax.set(yticks=np.arange(n_splits+2) + .5, yticklabels=yticklabels,\n",
    "           xlabel='Sample index', ylabel=\"CV iteration\",\n",
    "           ylim=[n_splits+2.2, -.2], xlim=[0, len(groups)])\n",
    "    ax.set_title('{}'.format(type(cv).__name__), fontsize=15)\n",
    "    return ax"
   ]
  },
  {
   "cell_type": "markdown",
   "metadata": {},
   "source": [
    "Let's see how it looks for the :class:`~sklearn.model_selection.KFold`\n",
    "cross-validation object:\n",
    "\n"
   ]
  },
  {
   "cell_type": "code",
   "execution_count": 28,
   "metadata": {},
   "outputs": [
    {
     "data": {
      "text/plain": [
       "<AxesSubplot:title={'center':'KFold'}, xlabel='Sample index', ylabel='CV iteration'>"
      ]
     },
     "execution_count": 28,
     "metadata": {},
     "output_type": "execute_result"
    }
   ],
   "source": [
    "fig, ax = plt.subplots()\n",
    "cv = KFold(n_splits)\n",
    "plot_cv_indices(cv, X, y, groups, ax, n_splits)"
   ]
  },
  {
   "cell_type": "markdown",
   "metadata": {},
   "source": [
    "As you can see, by default the KFold cross-validation iterator does not\n",
    "take either datapoint class or group into consideration. We can change this\n",
    "by using the ``StratifiedKFold`` like so.\n",
    "\n"
   ]
  },
  {
   "cell_type": "code",
   "execution_count": 24,
   "metadata": {},
   "outputs": [
    {
     "data": {
      "text/plain": [
       "<AxesSubplot:title={'center':'StratifiedKFold'}, xlabel='Sample index', ylabel='CV iteration'>"
      ]
     },
     "execution_count": 24,
     "metadata": {},
     "output_type": "execute_result"
    }
   ],
   "source": [
    "fig, ax = plt.subplots()\n",
    "cv = StratifiedKFold(n_splits)\n",
    "plot_cv_indices(cv, X, y, groups, ax, n_splits)"
   ]
  },
  {
   "cell_type": "markdown",
   "metadata": {},
   "source": [
    "In this case, the cross-validation retained the same ratio of classes across\n",
    "each CV split. Next we'll visualize this behavior for a number of CV\n",
    "iterators.\n",
    "\n",
    "## Visualize cross-validation indices for many CV objects\n",
    "\n",
    "Let's visually compare the cross validation behavior for many\n",
    "scikit-learn cross-validation objects. Below we will loop through several\n",
    "common cross-validation objects, visualizing the behavior of each.\n",
    "\n",
    "Note how some use the group/class information while others do not.\n",
    "\n"
   ]
  },
  {
   "cell_type": "code",
   "execution_count": 25,
   "metadata": {},
   "outputs": [],
   "source": [
    "cvs = [KFold, GroupKFold, ShuffleSplit, StratifiedKFold,\n",
    "       GroupShuffleSplit, StratifiedShuffleSplit, TimeSeriesSplit]\n",
    "\n",
    "\n",
    "for cv in cvs:\n",
    "    this_cv = cv(n_splits=n_splits)\n",
    "    fig, ax = plt.subplots(figsize=(6, 3))\n",
    "    plot_cv_indices(this_cv, X, y, groups, ax, n_splits)\n",
    "\n",
    "    ax.legend([Patch(color=cmap_cv(.8)), Patch(color=cmap_cv(.02))],\n",
    "              ['Testing set', 'Training set'], loc=(1.02, .8))\n",
    "    # Make the legend fit\n",
    "    plt.tight_layout()\n",
    "    fig.subplots_adjust(right=.7)\n",
    "plt.show()"
   ]
  },
  {
   "cell_type": "code",
   "execution_count": null,
   "metadata": {},
   "outputs": [],
   "source": []
  }
 ],
 "metadata": {
  "kernelspec": {
   "display_name": "Python 3",
   "language": "python",
   "name": "python3"
  },
  "language_info": {
   "codemirror_mode": {
    "name": "ipython",
    "version": 3
   },
   "file_extension": ".py",
   "mimetype": "text/x-python",
   "name": "python",
   "nbconvert_exporter": "python",
   "pygments_lexer": "ipython3",
   "version": "3.8.6"
  }
 },
 "nbformat": 4,
 "nbformat_minor": 1
}
